{
 "cells": [
  {
   "cell_type": "code",
   "execution_count": 1,
   "metadata": {},
   "outputs": [],
   "source": [
    "# autoreload imports\n",
    "%matplotlib inline\n",
    "%load_ext autoreload\n",
    "%autoreload 2"
   ]
  },
  {
   "cell_type": "markdown",
   "metadata": {},
   "source": [
    "# Initial data exploration"
   ]
  },
  {
   "cell_type": "code",
   "execution_count": 2,
   "metadata": {},
   "outputs": [],
   "source": [
    "# standard path wrangling to be able to import project config and sources\n",
    "import os\n",
    "import sys\n",
    "root = os.path.dirname(os.getcwd())\n",
    "sys.path.append(root)"
   ]
  },
  {
   "cell_type": "code",
   "execution_count": 3,
   "metadata": {},
   "outputs": [],
   "source": [
    "# built-in\n",
    "import re\n",
    "import csv\n",
    "import json\n",
    "import time\n",
    "import logging\n",
    "import datetime\n",
    "from collections import Counter\n",
    "\n",
    "# installed\n",
    "import spacy\n",
    "import numpy as np\n",
    "import pandas as pd\n",
    "from scipy import stats\n",
    "from tqdm.notebook import tqdm\n",
    "import matplotlib.pyplot as plt\n",
    "import fasttext\n",
    "\n",
    "# custom\n",
    "from src.utils.jupyter_setup import setup_jupyter\n",
    "from src.data.data_loader import DataLoader\n",
    "from src.data.path_manager import PathManager"
   ]
  },
  {
   "cell_type": "code",
   "execution_count": 4,
   "metadata": {},
   "outputs": [
    {
     "name": "stdout",
     "output_type": "stream",
     "text": [
      "Config loaded.\n",
      "Setup done\n"
     ]
    }
   ],
   "source": [
    "cfg = setup_jupyter(root, logging_level=logging.WARNING)\n",
    "nlp = spacy.load('en')"
   ]
  },
  {
   "cell_type": "markdown",
   "metadata": {},
   "source": [
    "## Load data"
   ]
  },
  {
   "cell_type": "code",
   "execution_count": 5,
   "metadata": {},
   "outputs": [
    {
     "name": "stdout",
     "output_type": "stream",
     "text": [
      "Documents retrieved: 16797\n"
     ]
    }
   ],
   "source": [
    "path_mgr = PathManager(cfg, root)\n",
    "data_loader = DataLoader(\n",
    "    user=cfg['index']['user'], password=cfg['index']['password'],\n",
    "    port=cfg['index']['port'], index_name=cfg['index']['index_name'], \n",
    "    hosts=cfg['index']['hosts']\n",
    ")\n",
    "data_df = data_loader.load_data(path_mgr.label_map_file)\n",
    "print('Documents retrieved:', len(data_df))"
   ]
  },
  {
   "cell_type": "markdown",
   "metadata": {},
   "source": [
    "Remove columns with cruise information"
   ]
  },
  {
   "cell_type": "code",
   "execution_count": 6,
   "metadata": {},
   "outputs": [],
   "source": [
    "remove_columns = [\n",
    "    'portName', 'portNation', 'mainMap', 'coordinates', 'content', 'link', 'shipName', 'year built',\n",
    "    'flag state', 'builder', 'class', 'building cost', 'owner', 'operator', 'speed', 'length (LOA)',\n",
    "    'beam (width)', 'gross Tonnage', 'passengers', 'crew', 'passengers-to-space ratio', 'decks',\n",
    "    'cabins', 'decks with cabins', 'last Refurbishment', 'itenerary', 'sister-ships', 'former names',\n",
    "    'christened by', 'ferry route / homeports', 'cars', 'beds'\n",
    "]\n",
    "keep_columns = [col for col in data_df.columns if col not in remove_columns]\n",
    "data_df = data_df[keep_columns]"
   ]
  },
  {
   "cell_type": "markdown",
   "metadata": {},
   "source": [
    "Remove empty entries"
   ]
  },
  {
   "cell_type": "code",
   "execution_count": 7,
   "metadata": {},
   "outputs": [
    {
     "name": "stdout",
     "output_type": "stream",
     "text": [
      "Total claims: 16797\n",
      "After removing empty rows: 14304\n"
     ]
    }
   ],
   "source": [
    "print(f'Total claims: {len(data_df)}')\n",
    "data_df.dropna(axis=0, subset=['url', 'fact_original', 'subject'], inplace=True)\n",
    "print(f'After removing empty rows: {len(data_df)}')"
   ]
  },
  {
   "cell_type": "markdown",
   "metadata": {},
   "source": [
    "Example entries"
   ]
  },
  {
   "cell_type": "code",
   "execution_count": 8,
   "metadata": {
    "scrolled": false
   },
   "outputs": [
    {
     "data": {
      "text/html": [
       "<div>\n",
       "<style scoped>\n",
       "    .dataframe tbody tr th:only-of-type {\n",
       "        vertical-align: middle;\n",
       "    }\n",
       "\n",
       "    .dataframe tbody tr th {\n",
       "        vertical-align: top;\n",
       "    }\n",
       "\n",
       "    .dataframe thead th {\n",
       "        text-align: right;\n",
       "    }\n",
       "</style>\n",
       "<table border=\"1\" class=\"dataframe\">\n",
       "  <thead>\n",
       "    <tr style=\"text-align: right;\">\n",
       "      <th></th>\n",
       "      <th>e99bb3b365b59a1483416853bf9e6a0a</th>\n",
       "      <th>f7f72dcfbc016d292645dd4d088db430</th>\n",
       "    </tr>\n",
       "  </thead>\n",
       "  <tbody>\n",
       "    <tr>\n",
       "      <th>pscreated</th>\n",
       "      <td>1611125697662</td>\n",
       "      <td>1611125697662</td>\n",
       "    </tr>\n",
       "    <tr>\n",
       "      <th>author</th>\n",
       "      <td>None</td>\n",
       "      <td>None</td>\n",
       "    </tr>\n",
       "    <tr>\n",
       "      <th>dataSource</th>\n",
       "      <td>poynter</td>\n",
       "      <td>poynter</td>\n",
       "    </tr>\n",
       "    <tr>\n",
       "      <th>date</th>\n",
       "      <td>2020-10-14 00:00:00</td>\n",
       "      <td>2020-10-12 00:00:00</td>\n",
       "    </tr>\n",
       "    <tr>\n",
       "      <th>explanation</th>\n",
       "      <td>None</td>\n",
       "      <td>None</td>\n",
       "    </tr>\n",
       "    <tr>\n",
       "      <th>fact</th>\n",
       "      <td>false</td>\n",
       "      <td>false</td>\n",
       "    </tr>\n",
       "    <tr>\n",
       "      <th>fact_original</th>\n",
       "      <td>FALSE</td>\n",
       "      <td>FALSE</td>\n",
       "    </tr>\n",
       "    <tr>\n",
       "      <th>factCheckedBy</th>\n",
       "      <td>Maldita.es</td>\n",
       "      <td>Maldita.es</td>\n",
       "    </tr>\n",
       "    <tr>\n",
       "      <th>keywords</th>\n",
       "      <td>None</td>\n",
       "      <td>None</td>\n",
       "    </tr>\n",
       "    <tr>\n",
       "      <th>location</th>\n",
       "      <td>Spain</td>\n",
       "      <td>Spain</td>\n",
       "    </tr>\n",
       "    <tr>\n",
       "      <th>source</th>\n",
       "      <td>Website article</td>\n",
       "      <td>Twitter users</td>\n",
       "    </tr>\n",
       "    <tr>\n",
       "      <th>subject</th>\n",
       "      <td>Did The Rothschild family ‘patent in 2015 a method to test for COVID-19’</td>\n",
       "      <td>Twitter users say that Spanish President of the Government, Pedro Sanchez, was on a holiday house outside Madrid during the lockdown in Madrid.</td>\n",
       "    </tr>\n",
       "    <tr>\n",
       "      <th>summary</th>\n",
       "      <td>Explanation: It was not a covid-test patent at that moment, it was updated later.</td>\n",
       "      <td>Explanation: There is no evidence of it: the presidente spearker denies it, and Sánchez was in Portugal on Saturday and in Madrid on Monday on public acts.</td>\n",
       "    </tr>\n",
       "    <tr>\n",
       "      <th>targetAudience</th>\n",
       "      <td>None</td>\n",
       "      <td>None</td>\n",
       "    </tr>\n",
       "    <tr>\n",
       "      <th>url</th>\n",
       "      <td>https://www.poynter.org/?ifcn_misinformation=did-the-rothschild-family-patent-in-2015-a-method-to-test-for-covid-19</td>\n",
       "      <td>https://www.poynter.org/?ifcn_misinformation=twitter-users-say-that-spanish-president-of-the-government-pedro-sanchez-was-on-a-holiday-house-outside-madrid-during-the-lockdown-in-madrid</td>\n",
       "    </tr>\n",
       "    <tr>\n",
       "      <th>fact_new</th>\n",
       "      <td>false/misleading</td>\n",
       "      <td>false/misleading</td>\n",
       "    </tr>\n",
       "  </tbody>\n",
       "</table>\n",
       "</div>"
      ],
      "text/plain": [
       "                                                                                                   e99bb3b365b59a1483416853bf9e6a0a  \\\n",
       "pscreated                                                                                                             1611125697662   \n",
       "author                                                                                                                         None   \n",
       "dataSource                                                                                                                  poynter   \n",
       "date                                                                                                            2020-10-14 00:00:00   \n",
       "explanation                                                                                                                    None   \n",
       "fact                                                                                                                          false   \n",
       "fact_original                                                                                                                 FALSE   \n",
       "factCheckedBy                                                                                                            Maldita.es   \n",
       "keywords                                                                                                                       None   \n",
       "location                                                                                                                      Spain   \n",
       "source                                                                                                              Website article   \n",
       "subject                                                    Did The Rothschild family ‘patent in 2015 a method to test for COVID-19’   \n",
       "summary                                           Explanation: It was not a covid-test patent at that moment, it was updated later.   \n",
       "targetAudience                                                                                                                 None   \n",
       "url             https://www.poynter.org/?ifcn_misinformation=did-the-rothschild-family-patent-in-2015-a-method-to-test-for-covid-19   \n",
       "fact_new                                                                                                           false/misleading   \n",
       "\n",
       "                                                                                                                                                                         f7f72dcfbc016d292645dd4d088db430  \n",
       "pscreated                                                                                                                                                                                   1611125697662  \n",
       "author                                                                                                                                                                                               None  \n",
       "dataSource                                                                                                                                                                                        poynter  \n",
       "date                                                                                                                                                                                  2020-10-12 00:00:00  \n",
       "explanation                                                                                                                                                                                          None  \n",
       "fact                                                                                                                                                                                                false  \n",
       "fact_original                                                                                                                                                                                       FALSE  \n",
       "factCheckedBy                                                                                                                                                                                  Maldita.es  \n",
       "keywords                                                                                                                                                                                             None  \n",
       "location                                                                                                                                                                                            Spain  \n",
       "source                                                                                                                                                                                      Twitter users  \n",
       "subject                                                   Twitter users say that Spanish President of the Government, Pedro Sanchez, was on a holiday house outside Madrid during the lockdown in Madrid.  \n",
       "summary                                       Explanation: There is no evidence of it: the presidente spearker denies it, and Sánchez was in Portugal on Saturday and in Madrid on Monday on public acts.  \n",
       "targetAudience                                                                                                                                                                                       None  \n",
       "url             https://www.poynter.org/?ifcn_misinformation=twitter-users-say-that-spanish-president-of-the-government-pedro-sanchez-was-on-a-holiday-house-outside-madrid-during-the-lockdown-in-madrid  \n",
       "fact_new                                                                                                                                                                                 false/misleading  "
      ]
     },
     "execution_count": 8,
     "metadata": {},
     "output_type": "execute_result"
    }
   ],
   "source": [
    "data_df.head(2).transpose()"
   ]
  },
  {
   "cell_type": "markdown",
   "metadata": {},
   "source": [
    "Number of claims collected from each fact checker"
   ]
  },
  {
   "cell_type": "code",
   "execution_count": 9,
   "metadata": {},
   "outputs": [
    {
     "data": {
      "text/plain": [
       "poynter         10748\n",
       "euvsdisinfo      1397\n",
       "AosFatos         1079\n",
       "politifact        714\n",
       "AFP News          332\n",
       "Vishvas News       34\n",
       "Name: dataSource, dtype: int64"
      ]
     },
     "execution_count": 9,
     "metadata": {},
     "output_type": "execute_result"
    }
   ],
   "source": [
    "data_df['dataSource'].value_counts()"
   ]
  },
  {
   "cell_type": "markdown",
   "metadata": {},
   "source": [
    "Total number of claims before cleaning"
   ]
  },
  {
   "cell_type": "code",
   "execution_count": 10,
   "metadata": {},
   "outputs": [
    {
     "data": {
      "text/plain": [
       "14304"
      ]
     },
     "execution_count": 10,
     "metadata": {},
     "output_type": "execute_result"
    }
   ],
   "source": [
    "len(data_df)"
   ]
  },
  {
   "cell_type": "code",
   "execution_count": 11,
   "metadata": {},
   "outputs": [],
   "source": [
    "# uncomment to print label mapping\n",
    "# data_df['fact_original'] = data_df['fact_original'].str.lower()\n",
    "# data_df.groupby(by=['dataSource', 'fact_original'])['fact_new'].apply(set)"
   ]
  },
  {
   "cell_type": "markdown",
   "metadata": {},
   "source": [
    "Remove EU vs. disinfo claims"
   ]
  },
  {
   "cell_type": "code",
   "execution_count": 12,
   "metadata": {},
   "outputs": [],
   "source": [
    "selector = data_df['dataSource'] != 'euvsdisinfo'\n",
    "# data_df.loc[selector, 'subject'] = data_df[selector]['subject'].str.replace('DISINFO:', '').str.strip()\n",
    "data_df = data_df[selector]"
   ]
  },
  {
   "cell_type": "markdown",
   "metadata": {},
   "source": [
    "## Clean data"
   ]
  },
  {
   "cell_type": "markdown",
   "metadata": {},
   "source": [
    "### Clean by source\n",
    "\n",
    "Remove data from and YouTube, Instagram"
   ]
  },
  {
   "cell_type": "code",
   "execution_count": 13,
   "metadata": {
    "scrolled": false
   },
   "outputs": [
    {
     "name": "stdout",
     "output_type": "stream",
     "text": [
      "Claims after filtering by source: 8884\n"
     ]
    }
   ],
   "source": [
    "# List all sources with at least 10 claims\n",
    "data_df.source = data_df.source.str.lower()\n",
    "data_df.author = data_df.author.str.lower()\n",
    "sources_counts = data_df.source.value_counts()\n",
    "authors_counts = data_df.author.value_counts()\n",
    "top_sources = set(sources_counts[sources_counts >= 1].index)\n",
    "top_authors = set(authors_counts[authors_counts >= 1].index)\n",
    "\n",
    "# Remove sources that mention specific keywords\n",
    "filter_keywords = re.compile(r'youtube|instagram|image|photo|video|meme')  \n",
    "keep_sources = [s for s in top_sources if not re.search(filter_keywords, s)]\n",
    "keep_authors = [a for a in top_authors if not re.search(filter_keywords, a)]\n",
    "\n",
    "# Additionally filter subject and summary\n",
    "subject_filter = np.array([re.search(filter_keywords, s.lower()) is None for s in data_df.subject])\n",
    "summary_filter = np.array([s is None or re.search(filter_keywords, s.lower()) is None for s in data_df.summary])\n",
    "\n",
    "# Filter DataFrame by source\n",
    "data_df = data_df[subject_filter & summary_filter]\n",
    "data_df = data_df[data_df.source.isin(keep_sources) | data_df.source.isna()]\n",
    "data_df = data_df[data_df.author.isin(keep_authors) | data_df.author.isna()]\n",
    "data_df = data_df[data_df.author.notna() | data_df.source.notna()]\n",
    "print(f'Claims after filtering by source: {len(data_df)}')"
   ]
  },
  {
   "cell_type": "markdown",
   "metadata": {},
   "source": [
    "### Clean by topic"
   ]
  },
  {
   "cell_type": "code",
   "execution_count": 14,
   "metadata": {
    "scrolled": false
   },
   "outputs": [],
   "source": [
    "keywords = [\n",
    "    'chinese', 'corona', 'covid', 'face shield', 'sanitize', 'health work', 'herd immunity', \n",
    "    'homeschool', 'kungflu', 'lockdown', 'mask', 'n95', 'ncov', 'pandemic', 'pneumonia', \n",
    "    'ppe', 'quarantine', 'sars', 'cov2', 'isolati', 'social distanc', 'vaccine', 'wuhan', 'virus', \n",
    "    'chloroquine', 'antigen', 'pfizer', 'moderna', 'death', 'disease', 'stimulus', 'outbreak', 'epidemic', \n",
    "    'pcr', 'intensive care', 'curfew', 'respirator', 'case count', 'positive case', 'positive test', 'reopen',\n",
    "    'close down', 'closing down', 'ventilator'\n",
    "]\n",
    "# print(''.join([f'\\item {k}\\n' for k in sorted(keywords)]))"
   ]
  },
  {
   "cell_type": "code",
   "execution_count": 15,
   "metadata": {
    "scrolled": true
   },
   "outputs": [
    {
     "name": "stdout",
     "output_type": "stream",
     "text": [
      "Claims after filtering by subject: 7274\n"
     ]
    }
   ],
   "source": [
    "filter_keywords = re.compile('|'.join(keywords))\n",
    "subject_filter = np.array([re.search(filter_keywords, s.lower()) is not None for s in data_df.subject])\n",
    "summary_filter = np.array([s is None or re.search(filter_keywords, s.lower()) is not None for s in data_df.summary])\n",
    "data_df = data_df[subject_filter | summary_filter]\n",
    "print(f'Claims after filtering by subject: {len(data_df)}')"
   ]
  },
  {
   "cell_type": "markdown",
   "metadata": {},
   "source": [
    "### Clean by language"
   ]
  },
  {
   "cell_type": "code",
   "execution_count": 16,
   "metadata": {
    "scrolled": true
   },
   "outputs": [
    {
     "name": "stderr",
     "output_type": "stream",
     "text": [
      "Warning : `load_model` does not return WordVectorModel or SupervisedModel any more, but a `FastText` object which is very similar.\n"
     ]
    },
    {
     "data": {
      "application/vnd.jupyter.widget-view+json": {
       "model_id": "8dc97eb2213144479f66b911b4cbb663",
       "version_major": 2,
       "version_minor": 0
      },
      "text/plain": [
       "  0%|          | 0/7274 [00:00<?, ?it/s]"
      ]
     },
     "metadata": {},
     "output_type": "display_data"
    },
    {
     "name": "stdout",
     "output_type": "stream",
     "text": [
      "Claims after filtering by language: 7074\n"
     ]
    }
   ],
   "source": [
    "language_filter = []\n",
    "languages = []\n",
    "model = fasttext.load_model('../models/fasttext/lid.176.bin')\n",
    "for s in tqdm(data_df.subject):\n",
    "    lang = model.predict(s, k=1)[0][0]\n",
    "    languages.append(lang)\n",
    "    language_filter.append(lang == '__label__en')\n",
    "data_df = data_df[language_filter]\n",
    "print(f'Claims after filtering by language: {len(data_df)}')"
   ]
  },
  {
   "cell_type": "markdown",
   "metadata": {},
   "source": [
    "Language statistics"
   ]
  },
  {
   "cell_type": "code",
   "execution_count": 17,
   "metadata": {},
   "outputs": [
    {
     "data": {
      "text/plain": [
       "[('__label__en', 7074),\n",
       " ('__label__pt', 191),\n",
       " ('__label__it', 3),\n",
       " ('__label__ja', 2),\n",
       " ('__label__fr', 2),\n",
       " ('__label__de', 1),\n",
       " ('__label__es', 1)]"
      ]
     },
     "execution_count": 17,
     "metadata": {},
     "output_type": "execute_result"
    }
   ],
   "source": [
    "Counter(languages).most_common()"
   ]
  },
  {
   "cell_type": "markdown",
   "metadata": {},
   "source": [
    "### Clean by label in subject"
   ]
  },
  {
   "cell_type": "code",
   "execution_count": 18,
   "metadata": {
    "scrolled": false
   },
   "outputs": [
    {
     "name": "stdout",
     "output_type": "stream",
     "text": [
      "Claims after filtering by label keyword: 6972\n"
     ]
    }
   ],
   "source": [
    "keywords = ['disinfo', 'hoax', 'false', 'true', 'mislead', 'fake']\n",
    "filter_keywords = re.compile('|'.join(keywords))\n",
    "subject_filter = np.array([re.search(filter_keywords, s.lower()) is None for s in data_df.subject])\n",
    "data_df = data_df[subject_filter]\n",
    "print(f'Claims after filtering by label keyword: {len(data_df)}')"
   ]
  },
  {
   "cell_type": "markdown",
   "metadata": {},
   "source": [
    "## Store cleaned data"
   ]
  },
  {
   "cell_type": "code",
   "execution_count": 19,
   "metadata": {},
   "outputs": [],
   "source": [
    "data_df.to_csv(path_mgr.processed_file_path('fc_cleaned.csv'))"
   ]
  },
  {
   "cell_type": "markdown",
   "metadata": {},
   "source": [
    "## Basic data statistics"
   ]
  },
  {
   "cell_type": "code",
   "execution_count": 20,
   "metadata": {},
   "outputs": [
    {
     "name": "stdout",
     "output_type": "stream",
     "text": [
      "Final number of claims: 6972\n"
     ]
    },
    {
     "data": {
      "text/plain": [
       "false/misleading    6673\n",
       "no evidence          177\n",
       "true                  87\n",
       "other                 35\n",
       "Name: fact_new, dtype: int64"
      ]
     },
     "execution_count": 20,
     "metadata": {},
     "output_type": "execute_result"
    }
   ],
   "source": [
    "print(f'Final number of claims: {len(data_df)}')\n",
    "data_df['fact_new'].value_counts()"
   ]
  },
  {
   "cell_type": "markdown",
   "metadata": {},
   "source": [
    "Claims by fact checker"
   ]
  },
  {
   "cell_type": "code",
   "execution_count": 21,
   "metadata": {},
   "outputs": [
    {
     "data": {
      "text/plain": [
       "poynter         6483\n",
       "politifact       467\n",
       "Vishvas News      22\n",
       "Name: dataSource, dtype: int64"
      ]
     },
     "execution_count": 21,
     "metadata": {},
     "output_type": "execute_result"
    }
   ],
   "source": [
    "data_df['dataSource'].value_counts()"
   ]
  },
  {
   "cell_type": "code",
   "execution_count": 22,
   "metadata": {
    "scrolled": false
   },
   "outputs": [
    {
     "data": {
      "image/png": "[encoded data removed]",
      "text/plain": [
       "<Figure size 576x288 with 1 Axes>"
      ]
     },
     "metadata": {},
     "output_type": "display_data"
    }
   ],
   "source": [
    "plt.figure(figsize=(8, 4))\n",
    "data_df['date'].groupby(by=[data_df['date'].dt.year, data_df['date'].dt.month]).count().plot(kind='bar')\n",
    "plt.xlabel('Month')\n",
    "plt.ylabel('Number of claims')\n",
    "xticks = []\n",
    "for x in plt.xticks()[1]:\n",
    "    tick_text = x._text\n",
    "    tick_parts = tick_text.strip('()').split(',')\n",
    "    xticks.append(f'{tick_parts[0]}-{int(tick_parts[1].strip()):02d}')\n",
    "plt.xticks(np.arange(len(xticks)), xticks, rotation=45)\n",
    "plt.tight_layout()\n",
    "plt.savefig(path_mgr.figure_path('claim_age_distribution.pdf'))\n",
    "plt.show()"
   ]
  },
  {
   "cell_type": "code",
   "execution_count": 23,
   "metadata": {
    "scrolled": false
   },
   "outputs": [
    {
     "name": "stdout",
     "output_type": "stream",
     "text": [
      "Number of claims with location information: 6505\n"
     ]
    },
    {
     "data": {
      "image/png": "[encoded data removed]",
      "text/plain": [
       "<Figure size 576x360 with 1 Axes>"
      ]
     },
     "metadata": {},
     "output_type": "display_data"
    }
   ],
   "source": [
    "print(f'Number of claims with location information: {len(data_df[data_df[\"location\"].notna()])}')\n",
    "plt.figure(figsize=(8, 5))\n",
    "locations_counts = data_df['location'].value_counts()[:20]\n",
    "plt.bar(np.arange(len(locations_counts)), locations_counts.values)\n",
    "plt.xticks(np.arange(len(locations_counts)), locations_counts.index, rotation=90)\n",
    "xlim = plt.xlim()\n",
    "plt.xlim((xlim[0] + 0.5, xlim[1] - 0.5))\n",
    "plt.ylabel('Number of claims')\n",
    "plt.tight_layout()\n",
    "plt.savefig(path_mgr.figure_path('claim_loc_distribution.pdf'))\n",
    "plt.show()"
   ]
  },
  {
   "cell_type": "code",
   "execution_count": 24,
   "metadata": {},
   "outputs": [
    {
     "name": "stdout",
     "output_type": "stream",
     "text": [
      "Number of claims with source/author information: 6972\n"
     ]
    },
    {
     "data": {
      "image/png": "[encoded data removed]",
      "text/plain": [
       "<Figure size 504x432 with 1 Axes>"
      ]
     },
     "metadata": {},
     "output_type": "display_data"
    }
   ],
   "source": [
    "print(\n",
    "    'Number of claims with source/author information:',\n",
    "    len(data_df[data_df[\"source\"].notna() | data_df[\"author\"].notna()])\n",
    ")\n",
    "plt.figure(figsize=(7, 6))\n",
    "sources = list(data_df['source']) + list(data_df['author'])\n",
    "sources, values = zip(*Counter(sources).most_common(21)[1:][::-1])\n",
    "plt.barh(np.arange(len(sources)), values)\n",
    "plt.yticks(np.arange(len(sources)), sources)\n",
    "ylim = plt.ylim()\n",
    "plt.ylim((ylim[0] + 0.5, ylim[1] - 0.5))\n",
    "plt.xscale('log')\n",
    "plt.xlabel('Number of claims')\n",
    "plt.tight_layout()\n",
    "plt.savefig(path_mgr.figure_path('claim_source_distribution.pdf'))\n",
    "plt.show()"
   ]
  }
 ],
 "metadata": {
  "kernelspec": {
   "display_name": "Python 3",
   "language": "python",
   "name": "python3"
  },
  "language_info": {
   "codemirror_mode": {
    "name": "ipython",
    "version": 3
   },
   "file_extension": ".py",
   "mimetype": "text/x-python",
   "name": "python",
   "nbconvert_exporter": "python",
   "pygments_lexer": "ipython3",
   "version": "3.6.8"
  }
 },
 "nbformat": 4,
 "nbformat_minor": 4
}
